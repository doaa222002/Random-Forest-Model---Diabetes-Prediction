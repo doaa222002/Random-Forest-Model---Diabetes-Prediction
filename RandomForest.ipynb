{
 "cells": [
  {
   "cell_type": "markdown",
   "id": "cb3ff3c9-b08f-48a5-9820-3ac51916bbd7",
   "metadata": {},
   "source": [
    "# Import Libraries"
   ]
  },
  {
   "cell_type": "code",
   "execution_count": 1,
   "id": "883a2651",
   "metadata": {},
   "outputs": [],
   "source": [
    "import numpy as np \n",
    "import matplotlib.pyplot as plt \n",
    "import pandas as pd \n",
    "import seaborn as sns\n",
    "from sklearn.model_selection import train_test_split , GridSearchCV\n",
    "from sklearn.metrics import classification_report , confusion_matrix\n",
    "\n",
    "import warnings \n",
    "warnings.filterwarnings('ignore')"
   ]
  },
  {
   "cell_type": "markdown",
   "id": "89cc00f4",
   "metadata": {},
   "source": [
    "# Read Dataset"
   ]
  },
  {
   "cell_type": "code",
   "execution_count": 2,
   "id": "e06d4a82",
   "metadata": {},
   "outputs": [],
   "source": [
    "df=pd.read_csv('E:/Dataset/diabetes.csv')"
   ]
  },
  {
   "cell_type": "code",
   "execution_count": 3,
   "id": "f4c87ad2",
   "metadata": {},
   "outputs": [
    {
     "data": {
      "text/html": [
       "<div>\n",
       "<style scoped>\n",
       "    .dataframe tbody tr th:only-of-type {\n",
       "        vertical-align: middle;\n",
       "    }\n",
       "\n",
       "    .dataframe tbody tr th {\n",
       "        vertical-align: top;\n",
       "    }\n",
       "\n",
       "    .dataframe thead th {\n",
       "        text-align: right;\n",
       "    }\n",
       "</style>\n",
       "<table border=\"1\" class=\"dataframe\">\n",
       "  <thead>\n",
       "    <tr style=\"text-align: right;\">\n",
       "      <th></th>\n",
       "      <th>Pregnancies</th>\n",
       "      <th>Glucose</th>\n",
       "      <th>BloodPressure</th>\n",
       "      <th>SkinThickness</th>\n",
       "      <th>Insulin</th>\n",
       "      <th>BMI</th>\n",
       "      <th>DiabetesPedigreeFunction</th>\n",
       "      <th>Age</th>\n",
       "      <th>Outcome</th>\n",
       "    </tr>\n",
       "  </thead>\n",
       "  <tbody>\n",
       "    <tr>\n",
       "      <th>0</th>\n",
       "      <td>6</td>\n",
       "      <td>148</td>\n",
       "      <td>72</td>\n",
       "      <td>35</td>\n",
       "      <td>0</td>\n",
       "      <td>33.6</td>\n",
       "      <td>0.627</td>\n",
       "      <td>50</td>\n",
       "      <td>1</td>\n",
       "    </tr>\n",
       "    <tr>\n",
       "      <th>1</th>\n",
       "      <td>1</td>\n",
       "      <td>85</td>\n",
       "      <td>66</td>\n",
       "      <td>29</td>\n",
       "      <td>0</td>\n",
       "      <td>26.6</td>\n",
       "      <td>0.351</td>\n",
       "      <td>31</td>\n",
       "      <td>0</td>\n",
       "    </tr>\n",
       "    <tr>\n",
       "      <th>2</th>\n",
       "      <td>8</td>\n",
       "      <td>183</td>\n",
       "      <td>64</td>\n",
       "      <td>0</td>\n",
       "      <td>0</td>\n",
       "      <td>23.3</td>\n",
       "      <td>0.672</td>\n",
       "      <td>32</td>\n",
       "      <td>1</td>\n",
       "    </tr>\n",
       "    <tr>\n",
       "      <th>3</th>\n",
       "      <td>1</td>\n",
       "      <td>89</td>\n",
       "      <td>66</td>\n",
       "      <td>23</td>\n",
       "      <td>94</td>\n",
       "      <td>28.1</td>\n",
       "      <td>0.167</td>\n",
       "      <td>21</td>\n",
       "      <td>0</td>\n",
       "    </tr>\n",
       "    <tr>\n",
       "      <th>4</th>\n",
       "      <td>0</td>\n",
       "      <td>137</td>\n",
       "      <td>40</td>\n",
       "      <td>35</td>\n",
       "      <td>168</td>\n",
       "      <td>43.1</td>\n",
       "      <td>2.288</td>\n",
       "      <td>33</td>\n",
       "      <td>1</td>\n",
       "    </tr>\n",
       "  </tbody>\n",
       "</table>\n",
       "</div>"
      ],
      "text/plain": [
       "   Pregnancies  Glucose  BloodPressure  SkinThickness  Insulin   BMI  \\\n",
       "0            6      148             72             35        0  33.6   \n",
       "1            1       85             66             29        0  26.6   \n",
       "2            8      183             64              0        0  23.3   \n",
       "3            1       89             66             23       94  28.1   \n",
       "4            0      137             40             35      168  43.1   \n",
       "\n",
       "   DiabetesPedigreeFunction  Age  Outcome  \n",
       "0                     0.627   50        1  \n",
       "1                     0.351   31        0  \n",
       "2                     0.672   32        1  \n",
       "3                     0.167   21        0  \n",
       "4                     2.288   33        1  "
      ]
     },
     "execution_count": 3,
     "metadata": {},
     "output_type": "execute_result"
    }
   ],
   "source": [
    "df.head()"
   ]
  },
  {
   "cell_type": "markdown",
   "id": "6044c9ed-d33d-4037-948c-bf6fc411a8c5",
   "metadata": {},
   "source": [
    "# Data Exploraion"
   ]
  },
  {
   "cell_type": "code",
   "execution_count": 4,
   "id": "c2ad6749",
   "metadata": {},
   "outputs": [
    {
     "name": "stdout",
     "output_type": "stream",
     "text": [
      "<class 'pandas.core.frame.DataFrame'>\n",
      "RangeIndex: 768 entries, 0 to 767\n",
      "Data columns (total 9 columns):\n",
      " #   Column                    Non-Null Count  Dtype  \n",
      "---  ------                    --------------  -----  \n",
      " 0   Pregnancies               768 non-null    int64  \n",
      " 1   Glucose                   768 non-null    int64  \n",
      " 2   BloodPressure             768 non-null    int64  \n",
      " 3   SkinThickness             768 non-null    int64  \n",
      " 4   Insulin                   768 non-null    int64  \n",
      " 5   BMI                       768 non-null    float64\n",
      " 6   DiabetesPedigreeFunction  768 non-null    float64\n",
      " 7   Age                       768 non-null    int64  \n",
      " 8   Outcome                   768 non-null    int64  \n",
      "dtypes: float64(2), int64(7)\n",
      "memory usage: 54.1 KB\n"
     ]
    }
   ],
   "source": [
    "df.info()"
   ]
  },
  {
   "cell_type": "code",
   "execution_count": 5,
   "id": "a7af5883",
   "metadata": {},
   "outputs": [
    {
     "data": {
      "text/plain": [
       "0"
      ]
     },
     "execution_count": 5,
     "metadata": {},
     "output_type": "execute_result"
    }
   ],
   "source": [
    "df.duplicated().sum()"
   ]
  },
  {
   "cell_type": "markdown",
   "id": "89536112-9362-457a-9fad-3244c5b341fd",
   "metadata": {},
   "source": [
    "# Data Visualization"
   ]
  },
  {
   "cell_type": "code",
   "execution_count": 6,
   "id": "d8557326",
   "metadata": {},
   "outputs": [
    {
     "data": {
      "text/plain": [
       "<Axes: xlabel='Outcome', ylabel='count'>"
      ]
     },
     "execution_count": 6,
     "metadata": {},
     "output_type": "execute_result"
    },
    {
     "data": {
      "image/png": "[encoded data removed]",
      "text/plain": [
       "<Figure size 640x480 with 1 Axes>"
      ]
     },
     "metadata": {},
     "output_type": "display_data"
    }
   ],
   "source": [
    "sns.countplot(x='Outcome',data=df)"
   ]
  },
  {
   "cell_type": "markdown",
   "id": "922f76ab-f0ba-462b-811b-5f63199be6d2",
   "metadata": {},
   "source": [
    "# Splitting Data"
   ]
  },
  {
   "cell_type": "code",
   "execution_count": 7,
   "id": "38d6eaa9",
   "metadata": {},
   "outputs": [
    {
     "data": {
      "text/html": [
       "<div>\n",
       "<style scoped>\n",
       "    .dataframe tbody tr th:only-of-type {\n",
       "        vertical-align: middle;\n",
       "    }\n",
       "\n",
       "    .dataframe tbody tr th {\n",
       "        vertical-align: top;\n",
       "    }\n",
       "\n",
       "    .dataframe thead th {\n",
       "        text-align: right;\n",
       "    }\n",
       "</style>\n",
       "<table border=\"1\" class=\"dataframe\">\n",
       "  <thead>\n",
       "    <tr style=\"text-align: right;\">\n",
       "      <th></th>\n",
       "      <th>Pregnancies</th>\n",
       "      <th>Glucose</th>\n",
       "      <th>BloodPressure</th>\n",
       "      <th>SkinThickness</th>\n",
       "      <th>Insulin</th>\n",
       "      <th>BMI</th>\n",
       "      <th>DiabetesPedigreeFunction</th>\n",
       "      <th>Age</th>\n",
       "    </tr>\n",
       "  </thead>\n",
       "  <tbody>\n",
       "    <tr>\n",
       "      <th>0</th>\n",
       "      <td>6</td>\n",
       "      <td>148</td>\n",
       "      <td>72</td>\n",
       "      <td>35</td>\n",
       "      <td>0</td>\n",
       "      <td>33.6</td>\n",
       "      <td>0.627</td>\n",
       "      <td>50</td>\n",
       "    </tr>\n",
       "    <tr>\n",
       "      <th>1</th>\n",
       "      <td>1</td>\n",
       "      <td>85</td>\n",
       "      <td>66</td>\n",
       "      <td>29</td>\n",
       "      <td>0</td>\n",
       "      <td>26.6</td>\n",
       "      <td>0.351</td>\n",
       "      <td>31</td>\n",
       "    </tr>\n",
       "    <tr>\n",
       "      <th>2</th>\n",
       "      <td>8</td>\n",
       "      <td>183</td>\n",
       "      <td>64</td>\n",
       "      <td>0</td>\n",
       "      <td>0</td>\n",
       "      <td>23.3</td>\n",
       "      <td>0.672</td>\n",
       "      <td>32</td>\n",
       "    </tr>\n",
       "    <tr>\n",
       "      <th>3</th>\n",
       "      <td>1</td>\n",
       "      <td>89</td>\n",
       "      <td>66</td>\n",
       "      <td>23</td>\n",
       "      <td>94</td>\n",
       "      <td>28.1</td>\n",
       "      <td>0.167</td>\n",
       "      <td>21</td>\n",
       "    </tr>\n",
       "    <tr>\n",
       "      <th>4</th>\n",
       "      <td>0</td>\n",
       "      <td>137</td>\n",
       "      <td>40</td>\n",
       "      <td>35</td>\n",
       "      <td>168</td>\n",
       "      <td>43.1</td>\n",
       "      <td>2.288</td>\n",
       "      <td>33</td>\n",
       "    </tr>\n",
       "  </tbody>\n",
       "</table>\n",
       "</div>"
      ],
      "text/plain": [
       "   Pregnancies  Glucose  BloodPressure  SkinThickness  Insulin   BMI  \\\n",
       "0            6      148             72             35        0  33.6   \n",
       "1            1       85             66             29        0  26.6   \n",
       "2            8      183             64              0        0  23.3   \n",
       "3            1       89             66             23       94  28.1   \n",
       "4            0      137             40             35      168  43.1   \n",
       "\n",
       "   DiabetesPedigreeFunction  Age  \n",
       "0                     0.627   50  \n",
       "1                     0.351   31  \n",
       "2                     0.672   32  \n",
       "3                     0.167   21  \n",
       "4                     2.288   33  "
      ]
     },
     "execution_count": 7,
     "metadata": {},
     "output_type": "execute_result"
    }
   ],
   "source": [
    "x=df.drop('Outcome',axis=1)\n",
    "x.head()"
   ]
  },
  {
   "cell_type": "code",
   "execution_count": 8,
   "id": "be8c9a5a",
   "metadata": {},
   "outputs": [
    {
     "data": {
      "text/plain": [
       "0    1\n",
       "1    0\n",
       "2    1\n",
       "3    0\n",
       "4    1\n",
       "Name: Outcome, dtype: int64"
      ]
     },
     "execution_count": 8,
     "metadata": {},
     "output_type": "execute_result"
    }
   ],
   "source": [
    "y=df.Outcome\n",
    "y.head()"
   ]
  },
  {
   "cell_type": "markdown",
   "id": "90211fc7-08a1-44e7-bcf5-300e77e04069",
   "metadata": {},
   "source": [
    "x_train,x_test,y_train,y_test=train_test_split(x,y,test_size=0.2,random_state=0)"
   ]
  },
  {
   "cell_type": "markdown",
   "id": "5f50a6da-01a1-4861-86fc-8acf14221daa",
   "metadata": {},
   "source": [
    "# Buildig Models \n"
   ]
  },
  {
   "cell_type": "raw",
   "id": "9e814b37-1c6d-4a96-96aa-fcfafe794802",
   "metadata": {},
   "source": [
    "1-knn\n",
    "2-naive bayes\n",
    "3-svm\n",
    "4-logistic regression \n",
    "5-decision tree \n",
    "6-random forest"
   ]
  },
  {
   "cell_type": "markdown",
   "id": "68d60fea",
   "metadata": {},
   "source": [
    "# 1-KNN"
   ]
  },
  {
   "cell_type": "code",
   "execution_count": 10,
   "id": "3accea52",
   "metadata": {},
   "outputs": [
    {
     "name": "stdout",
     "output_type": "stream",
     "text": [
      "{'n_neighbors': 18, 'p': 1, 'weights': 'uniform'}\n",
      "0.7394242303078769\n"
     ]
    }
   ],
   "source": [
    "from sklearn.neighbors import KNeighborsClassifier \n",
    "# call Model \n",
    "knn_model=KNeighborsClassifier()\n",
    "\n",
    "# hyperparametertuning \n",
    "params={\n",
    "   'n_neighbors':list(range(1,25)),\n",
    "    'p':[1,2],\n",
    "    'weights':['uniform','distance']\n",
    "}\n",
    "#call GridSearch model\n",
    "grid_search=GridSearchCV(knn_model,params, cv=5)\n",
    "# fir gridsearch\n",
    "grid_search.fit(x_train,y_train)\n",
    "\n",
    "print(grid_search.best_params_)\n",
    "print(grid_search.best_score_)"
   ]
  },
  {
   "cell_type": "code",
   "execution_count": 11,
   "id": "67c72511",
   "metadata": {
    "scrolled": true
   },
   "outputs": [
    {
     "name": "stdout",
     "output_type": "stream",
     "text": [
      "classification_report of testing:\n",
      "              precision    recall  f1-score   support\n",
      "\n",
      "           0       0.82      0.92      0.87       107\n",
      "           1       0.74      0.55      0.63        47\n",
      "\n",
      "    accuracy                           0.81       154\n",
      "   macro avg       0.78      0.73      0.75       154\n",
      "weighted avg       0.80      0.81      0.80       154\n",
      "\n",
      "classification_report of training:\n",
      "              precision    recall  f1-score   support\n",
      "\n",
      "           0       0.77      0.91      0.84       393\n",
      "           1       0.77      0.53      0.63       221\n",
      "\n",
      "    accuracy                           0.77       614\n",
      "   macro avg       0.77      0.72      0.73       614\n",
      "weighted avg       0.77      0.77      0.76       614\n",
      "\n"
     ]
    }
   ],
   "source": [
    "# apply the best params on Knn model \n",
    "\n",
    "# call KNN with the best params \n",
    "knn_model=KNeighborsClassifier(n_neighbors= 18, p= 1, weights='uniform')\n",
    "# fit model on training data \n",
    "knn_model.fit(x_train,y_train)\n",
    "\n",
    "# prediction of x_test\n",
    "y_pred=knn_model.predict(x_test)\n",
    "\n",
    "# prediction of x_train\n",
    "training_pred=knn_model.predict(x_train)\n",
    "\n",
    "# print classification report of testing \n",
    "print('classification_report of testing:')\n",
    "print(classification_report(y_test,y_pred))\n",
    "\n",
    "# print classification report of testing \n",
    "print('classification_report of training:')\n",
    "print(classification_report(y_train,training_pred))\n"
   ]
  },
  {
   "cell_type": "markdown",
   "id": "af97a8fe",
   "metadata": {},
   "source": [
    "# 2-naive bayes\n"
   ]
  },
  {
   "cell_type": "code",
   "execution_count": 12,
   "id": "daf3aa8d",
   "metadata": {},
   "outputs": [
    {
     "name": "stdout",
     "output_type": "stream",
     "text": [
      "{'var_smoothing': 0.011497569953977356}\n",
      "0.7442889510862322\n"
     ]
    }
   ],
   "source": [
    "from sklearn.naive_bayes import GaussianNB\n",
    "# call Model \n",
    "NB_model=GaussianNB()\n",
    "\n",
    "# hyperparametertuning \n",
    "params={\n",
    "   'var_smoothing':np.logspace(0,-2,num=100)\n",
    "    \n",
    "}\n",
    "#call GridSearch model\n",
    "grid_search=GridSearchCV(NB_model,params, cv=5)\n",
    "# fir gridsearch\n",
    "grid_search.fit(x_train,y_train)\n",
    "\n",
    "print(grid_search.best_params_)\n",
    "print(grid_search.best_score_)"
   ]
  },
  {
   "cell_type": "code",
   "execution_count": 13,
   "id": "0cbbecb6",
   "metadata": {},
   "outputs": [
    {
     "name": "stdout",
     "output_type": "stream",
     "text": [
      "classification_report of testing:\n",
      "              precision    recall  f1-score   support\n",
      "\n",
      "           0       0.71      0.99      0.82       107\n",
      "           1       0.75      0.06      0.12        47\n",
      "\n",
      "    accuracy                           0.71       154\n",
      "   macro avg       0.73      0.53      0.47       154\n",
      "weighted avg       0.72      0.71      0.61       154\n",
      "\n",
      "classification_report of training:\n",
      "              precision    recall  f1-score   support\n",
      "\n",
      "           0       0.65      0.97      0.78       393\n",
      "           1       0.62      0.07      0.13       221\n",
      "\n",
      "    accuracy                           0.65       614\n",
      "   macro avg       0.63      0.52      0.46       614\n",
      "weighted avg       0.64      0.65      0.55       614\n",
      "\n"
     ]
    }
   ],
   "source": [
    "# apply the best params on NB model \n",
    "\n",
    "# call NB with the best params \n",
    "NB_model=GaussianNB(var_smoothing=0.7442889510862322)\n",
    "# fit model on training data \n",
    "NB_model.fit(x_train,y_train)\n",
    "\n",
    "# prediction of x_test\n",
    "y_pred=NB_model.predict(x_test)\n",
    "\n",
    "# prediction of x_train\n",
    "training_pred=NB_model.predict(x_train)\n",
    "\n",
    "# print classification report of testing \n",
    "print('classification_report of testing:')\n",
    "print(classification_report(y_test,y_pred))\n",
    "\n",
    "# print classification report of testing \n",
    "print('classification_report of training:')\n",
    "print(classification_report(y_train,training_pred))\n"
   ]
  },
  {
   "cell_type": "markdown",
   "id": "2bcd4c46",
   "metadata": {},
   "source": [
    "# 3-SVM"
   ]
  },
  {
   "cell_type": "code",
   "execution_count": 18,
   "id": "241ffb75",
   "metadata": {},
   "outputs": [
    {
     "name": "stdout",
     "output_type": "stream",
     "text": [
      "{'C': 1, 'kernel': 'linear'}\n",
      "0.759016393442623\n"
     ]
    }
   ],
   "source": [
    "from sklearn.svm import SVC\n",
    "# call Model \n",
    "svm_model=SVC()\n",
    "\n",
    "# hyperparametertuning \n",
    "params={\n",
    "   'kernel':['linear','rbf','poly'],\n",
    "    'C':[1,0.1,0.01],    \n",
    "}\n",
    "#call GridSearch model\n",
    "grid_search=GridSearchCV(svm_model,params)\n",
    "# fir gridsearch\n",
    "grid_search.fit(x_train,y_train)\n",
    "\n",
    "print(grid_search.best_params_)\n",
    "print(grid_search.best_score_)"
   ]
  },
  {
   "cell_type": "code",
   "execution_count": 19,
   "id": "bd649204",
   "metadata": {},
   "outputs": [
    {
     "name": "stdout",
     "output_type": "stream",
     "text": [
      "classification_report of testing:\n",
      "              precision    recall  f1-score   support\n",
      "\n",
      "           0       0.84      0.91      0.87       107\n",
      "           1       0.74      0.62      0.67        47\n",
      "\n",
      "    accuracy                           0.82       154\n",
      "   macro avg       0.79      0.76      0.77       154\n",
      "weighted avg       0.81      0.82      0.81       154\n",
      "\n",
      "classification_report of training:\n",
      "              precision    recall  f1-score   support\n",
      "\n",
      "           0       0.78      0.87      0.83       393\n",
      "           1       0.72      0.57      0.64       221\n",
      "\n",
      "    accuracy                           0.77       614\n",
      "   macro avg       0.75      0.72      0.73       614\n",
      "weighted avg       0.76      0.77      0.76       614\n",
      "\n"
     ]
    }
   ],
   "source": [
    "# apply the best params on NB model \n",
    "svm_model=SVC(kernel='linear',C=1)\n",
    "\n",
    "# call NB with the best params \n",
    "# fit model on training data \n",
    "svm_model.fit(x_train,y_train)\n",
    "\n",
    "# prediction of x_test\n",
    "y_pred=svm_model.predict(x_test)\n",
    "\n",
    "# prediction of x_train\n",
    "training_pred=svm_model.predict(x_train)\n",
    "\n",
    "# print classification report of testing \n",
    "print('classification_report of testing:')\n",
    "print(classification_report(y_test,y_pred))\n",
    "\n",
    "# print classification report of testing \n",
    "print('classification_report of training:')\n",
    "print(classification_report(y_train,training_pred))\n"
   ]
  },
  {
   "cell_type": "markdown",
   "id": "6cbb4470",
   "metadata": {},
   "source": [
    "# 4-DecisionTree"
   ]
  },
  {
   "cell_type": "code",
   "execution_count": 20,
   "id": "189c04a9",
   "metadata": {},
   "outputs": [
    {
     "name": "stdout",
     "output_type": "stream",
     "text": [
      "{'criterion': 'gini', 'max_depth': 5, 'min_samples_leaf': 30}\n",
      "0.7393975743036119\n"
     ]
    }
   ],
   "source": [
    "from sklearn.tree import DecisionTreeClassifier\n",
    "# call Model \n",
    "DT_model=DecisionTreeClassifier()\n",
    "\n",
    "# hyperparametertuning \n",
    "params={\n",
    "   'max_depth':[5,10,20,25],\n",
    "    'min_samples_leaf':[10,20,30,40],  \n",
    "    'criterion':['gini','entropy']\n",
    "}\n",
    "#call GridSearch model\n",
    "grid_search=GridSearchCV(DT_model,params)\n",
    "# fir gridsearch\n",
    "grid_search.fit(x_train,y_train)\n",
    "\n",
    "print(grid_search.best_params_)\n",
    "print(grid_search.best_score_)"
   ]
  },
  {
   "cell_type": "code",
   "execution_count": 21,
   "id": "ed8222b1",
   "metadata": {},
   "outputs": [
    {
     "name": "stdout",
     "output_type": "stream",
     "text": [
      "classification_report of testing:\n",
      "              precision    recall  f1-score   support\n",
      "\n",
      "           0       0.85      0.87      0.86       107\n",
      "           1       0.68      0.64      0.66        47\n",
      "\n",
      "    accuracy                           0.80       154\n",
      "   macro avg       0.76      0.75      0.76       154\n",
      "weighted avg       0.80      0.80      0.80       154\n",
      "\n",
      "classification_report of training:\n",
      "              precision    recall  f1-score   support\n",
      "\n",
      "           0       0.83      0.84      0.83       393\n",
      "           1       0.71      0.68      0.70       221\n",
      "\n",
      "    accuracy                           0.79       614\n",
      "   macro avg       0.77      0.76      0.76       614\n",
      "weighted avg       0.78      0.79      0.78       614\n",
      "\n"
     ]
    }
   ],
   "source": [
    "# apply the best params on NB model \n",
    "DT_model=DecisionTreeClassifier(criterion='gini', max_depth=5, min_samples_leaf=30)\n",
    "\n",
    "# call NB with the best params \n",
    "# fit model on training data \n",
    "DT_model.fit(x_train,y_train)\n",
    "\n",
    "# prediction of x_test\n",
    "y_pred=DT_model.predict(x_test)\n",
    "\n",
    "# prediction of x_train\n",
    "training_pred=DT_model.predict(x_train)\n",
    "\n",
    "# print classification report of testing \n",
    "print('classification_report of testing:')\n",
    "print(classification_report(y_test,y_pred))\n",
    "\n",
    "# print classification report of testing \n",
    "print('classification_report of training:')\n",
    "print(classification_report(y_train,training_pred))\n"
   ]
  },
  {
   "cell_type": "markdown",
   "id": "2bd6651c",
   "metadata": {},
   "source": [
    "# 5-logistic regression \n"
   ]
  },
  {
   "cell_type": "code",
   "execution_count": 22,
   "id": "893282d6",
   "metadata": {},
   "outputs": [
    {
     "name": "stdout",
     "output_type": "stream",
     "text": [
      "{'C': 1.0, 'penalty': 'l1', 'solver': 'liblinear'}\n",
      "0.7622684259629481\n"
     ]
    }
   ],
   "source": [
    "from sklearn.linear_model import LogisticRegression\n",
    "# call Model \n",
    "LR_model=LogisticRegression()\n",
    "\n",
    "# hyperparametertuning \n",
    "params={\n",
    "   'penalty':['l1','l2','elasticnet'],\n",
    "    'C':[1.0,0.1,0.01,0.001],  \n",
    "    'solver':['1bfgs','liblinear','newton-cg','newton-cholesky','sag','saga']\n",
    "}\n",
    "#call GridSearch model\n",
    "grid_search=GridSearchCV(LR_model,params)\n",
    "# fir gridsearch\n",
    "grid_search.fit(x_train,y_train)\n",
    "\n",
    "print(grid_search.best_params_)\n",
    "print(grid_search.best_score_)"
   ]
  },
  {
   "cell_type": "code",
   "execution_count": 23,
   "id": "4771d0db",
   "metadata": {
    "scrolled": true
   },
   "outputs": [
    {
     "name": "stdout",
     "output_type": "stream",
     "text": [
      "classification_report of testing:\n",
      "              precision    recall  f1-score   support\n",
      "\n",
      "           0       0.84      0.92      0.88       107\n",
      "           1       0.76      0.62      0.68        47\n",
      "\n",
      "    accuracy                           0.82       154\n",
      "   macro avg       0.80      0.77      0.78       154\n",
      "weighted avg       0.82      0.82      0.82       154\n",
      "\n",
      "classification_report of training:\n",
      "              precision    recall  f1-score   support\n",
      "\n",
      "           0       0.78      0.87      0.82       393\n",
      "           1       0.71      0.57      0.63       221\n",
      "\n",
      "    accuracy                           0.76       614\n",
      "   macro avg       0.75      0.72      0.73       614\n",
      "weighted avg       0.76      0.76      0.75       614\n",
      "\n"
     ]
    }
   ],
   "source": [
    "# apply the best params on LR model \n",
    "LR_model=LogisticRegression(C=1.0, penalty='l1', solver='liblinear')\n",
    "\n",
    "# call LR with the best params \n",
    "# fit model on training data \n",
    "LR_model.fit(x_train,y_train)\n",
    "\n",
    "# prediction of x_test\n",
    "y_pred=LR_model.predict(x_test)\n",
    "\n",
    "# prediction of x_train\n",
    "training_pred=LR_model.predict(x_train)\n",
    "\n",
    "# print classification report of testing \n",
    "print('classification_report of testing:')\n",
    "print(classification_report(y_test,y_pred))\n",
    "\n",
    "# print classification report of testing \n",
    "print('classification_report of training:')\n",
    "print(classification_report(y_train,training_pred))\n"
   ]
  },
  {
   "cell_type": "markdown",
   "id": "41149ccf",
   "metadata": {},
   "source": [
    "# 6- Random forest"
   ]
  },
  {
   "cell_type": "code",
   "execution_count": 24,
   "id": "a4d22591",
   "metadata": {},
   "outputs": [
    {
     "name": "stdout",
     "output_type": "stream",
     "text": [
      "{'criterion': 'gini', 'max_depth': 10, 'max_features': 'sqrt', 'n_estimators': 150}\n",
      "0.7655204584832733\n"
     ]
    }
   ],
   "source": [
    "from sklearn.ensemble import RandomForestClassifier\n",
    "# call Model \n",
    "Rf_model=RandomForestClassifier()\n",
    "\n",
    "# hyperparametertuning \n",
    "params={\n",
    "   'criterion':['gini','entropy'],\n",
    "    'max_depth':[10,15,20],  \n",
    "    'n_estimators':[50,100,150,200],\n",
    "    'max_features':['sqrt','log2']\n",
    "}\n",
    "#call GridSearch model\n",
    "grid_search=GridSearchCV(Rf_model,params)\n",
    "# fir gridsearch\n",
    "grid_search.fit(x_train,y_train)\n",
    "\n",
    "print(grid_search.best_params_)\n",
    "print(grid_search.best_score_)"
   ]
  },
  {
   "cell_type": "code",
   "execution_count": 25,
   "id": "07424267",
   "metadata": {},
   "outputs": [
    {
     "name": "stdout",
     "output_type": "stream",
     "text": [
      "classification_report of testing:\n",
      "              precision    recall  f1-score   support\n",
      "\n",
      "           0       0.85      0.87      0.86       107\n",
      "           1       0.68      0.64      0.66        47\n",
      "\n",
      "    accuracy                           0.80       154\n",
      "   macro avg       0.76      0.75      0.76       154\n",
      "weighted avg       0.80      0.80      0.80       154\n",
      "\n",
      "classification_report of training:\n",
      "              precision    recall  f1-score   support\n",
      "\n",
      "           0       0.99      0.99      0.99       393\n",
      "           1       0.99      0.98      0.99       221\n",
      "\n",
      "    accuracy                           0.99       614\n",
      "   macro avg       0.99      0.99      0.99       614\n",
      "weighted avg       0.99      0.99      0.99       614\n",
      "\n"
     ]
    }
   ],
   "source": [
    "# apply the best params on RF model \n",
    "Rf_model=RandomForestClassifier(criterion='gini', max_depth=10, max_features='sqrt', n_estimators= 50)\n",
    "\n",
    "# call RF with the best params \n",
    "# fit model on training data \n",
    "Rf_model.fit(x_train,y_train)\n",
    "Rf_model.fit(x_train,y_train)\n",
    "\n",
    "\n",
    "# prediction of x_test\n",
    "y_pred=Rf_model.predict(x_test)\n",
    "\n",
    "# prediction of x_train\n",
    "training_pred=Rf_model.predict(x_train)\n",
    "\n",
    "# print classification report of testing \n",
    "print('classification_report of testing:') \n",
    "print(classification_report(y_test,y_pred))\n",
    "\n",
    "# print classification report of testing \n",
    "print('classification_report of training:')\n",
    "print(classification_report(y_train,training_pred))\n"
   ]
  },
  {
   "cell_type": "code",
   "execution_count": 26,
   "id": "83ba66ad",
   "metadata": {},
   "outputs": [
    {
     "data": {
      "text/html": [
       "<div>\n",
       "<style scoped>\n",
       "    .dataframe tbody tr th:only-of-type {\n",
       "        vertical-align: middle;\n",
       "    }\n",
       "\n",
       "    .dataframe tbody tr th {\n",
       "        vertical-align: top;\n",
       "    }\n",
       "\n",
       "    .dataframe thead th {\n",
       "        text-align: right;\n",
       "    }\n",
       "</style>\n",
       "<table border=\"1\" class=\"dataframe\">\n",
       "  <thead>\n",
       "    <tr style=\"text-align: right;\">\n",
       "      <th></th>\n",
       "      <th>Pregnancies</th>\n",
       "      <th>Glucose</th>\n",
       "      <th>BloodPressure</th>\n",
       "      <th>SkinThickness</th>\n",
       "      <th>Insulin</th>\n",
       "      <th>BMI</th>\n",
       "      <th>DiabetesPedigreeFunction</th>\n",
       "      <th>Age</th>\n",
       "    </tr>\n",
       "  </thead>\n",
       "  <tbody>\n",
       "    <tr>\n",
       "      <th>0</th>\n",
       "      <td>6</td>\n",
       "      <td>148</td>\n",
       "      <td>72</td>\n",
       "      <td>35</td>\n",
       "      <td>0</td>\n",
       "      <td>33.6</td>\n",
       "      <td>0.627</td>\n",
       "      <td>50</td>\n",
       "    </tr>\n",
       "    <tr>\n",
       "      <th>1</th>\n",
       "      <td>1</td>\n",
       "      <td>85</td>\n",
       "      <td>66</td>\n",
       "      <td>29</td>\n",
       "      <td>0</td>\n",
       "      <td>26.6</td>\n",
       "      <td>0.351</td>\n",
       "      <td>31</td>\n",
       "    </tr>\n",
       "    <tr>\n",
       "      <th>2</th>\n",
       "      <td>8</td>\n",
       "      <td>183</td>\n",
       "      <td>64</td>\n",
       "      <td>0</td>\n",
       "      <td>0</td>\n",
       "      <td>23.3</td>\n",
       "      <td>0.672</td>\n",
       "      <td>32</td>\n",
       "    </tr>\n",
       "    <tr>\n",
       "      <th>3</th>\n",
       "      <td>1</td>\n",
       "      <td>89</td>\n",
       "      <td>66</td>\n",
       "      <td>23</td>\n",
       "      <td>94</td>\n",
       "      <td>28.1</td>\n",
       "      <td>0.167</td>\n",
       "      <td>21</td>\n",
       "    </tr>\n",
       "    <tr>\n",
       "      <th>4</th>\n",
       "      <td>0</td>\n",
       "      <td>137</td>\n",
       "      <td>40</td>\n",
       "      <td>35</td>\n",
       "      <td>168</td>\n",
       "      <td>43.1</td>\n",
       "      <td>2.288</td>\n",
       "      <td>33</td>\n",
       "    </tr>\n",
       "  </tbody>\n",
       "</table>\n",
       "</div>"
      ],
      "text/plain": [
       "   Pregnancies  Glucose  BloodPressure  SkinThickness  Insulin   BMI  \\\n",
       "0            6      148             72             35        0  33.6   \n",
       "1            1       85             66             29        0  26.6   \n",
       "2            8      183             64              0        0  23.3   \n",
       "3            1       89             66             23       94  28.1   \n",
       "4            0      137             40             35      168  43.1   \n",
       "\n",
       "   DiabetesPedigreeFunction  Age  \n",
       "0                     0.627   50  \n",
       "1                     0.351   31  \n",
       "2                     0.672   32  \n",
       "3                     0.167   21  \n",
       "4                     2.288   33  "
      ]
     },
     "execution_count": 26,
     "metadata": {},
     "output_type": "execute_result"
    }
   ],
   "source": [
    "x.head()"
   ]
  },
  {
   "cell_type": "markdown",
   "id": "ad8b0106-1a51-4af3-a18c-ccff4dc4ab95",
   "metadata": {},
   "source": [
    "# Feature Selection \n"
   ]
  },
  {
   "cell_type": "code",
   "execution_count": 27,
   "id": "da646f6b",
   "metadata": {},
   "outputs": [
    {
     "data": {
      "text/html": [
       "<style>#sk-container-id-1 {color: black;background-color: white;}#sk-container-id-1 pre{padding: 0;}#sk-container-id-1 div.sk-toggleable {background-color: white;}#sk-container-id-1 label.sk-toggleable__label {cursor: pointer;display: block;width: 100%;margin-bottom: 0;padding: 0.3em;box-sizing: border-box;text-align: center;}#sk-container-id-1 label.sk-toggleable__label-arrow:before {content: \"▸\";float: left;margin-right: 0.25em;color: #696969;}#sk-container-id-1 label.sk-toggleable__label-arrow:hover:before {color: black;}#sk-container-id-1 div.sk-estimator:hover label.sk-toggleable__label-arrow:before {color: black;}#sk-container-id-1 div.sk-toggleable__content {max-height: 0;max-width: 0;overflow: hidden;text-align: left;background-color: #f0f8ff;}#sk-container-id-1 div.sk-toggleable__content pre {margin: 0.2em;color: black;border-radius: 0.25em;background-color: #f0f8ff;}#sk-container-id-1 input.sk-toggleable__control:checked~div.sk-toggleable__content {max-height: 200px;max-width: 100%;overflow: auto;}#sk-container-id-1 input.sk-toggleable__control:checked~label.sk-toggleable__label-arrow:before {content: \"▾\";}#sk-container-id-1 div.sk-estimator input.sk-toggleable__control:checked~label.sk-toggleable__label {background-color: #d4ebff;}#sk-container-id-1 div.sk-label input.sk-toggleable__control:checked~label.sk-toggleable__label {background-color: #d4ebff;}#sk-container-id-1 input.sk-hidden--visually {border: 0;clip: rect(1px 1px 1px 1px);clip: rect(1px, 1px, 1px, 1px);height: 1px;margin: -1px;overflow: hidden;padding: 0;position: absolute;width: 1px;}#sk-container-id-1 div.sk-estimator {font-family: monospace;background-color: #f0f8ff;border: 1px dotted black;border-radius: 0.25em;box-sizing: border-box;margin-bottom: 0.5em;}#sk-container-id-1 div.sk-estimator:hover {background-color: #d4ebff;}#sk-container-id-1 div.sk-parallel-item::after {content: \"\";width: 100%;border-bottom: 1px solid gray;flex-grow: 1;}#sk-container-id-1 div.sk-label:hover label.sk-toggleable__label {background-color: #d4ebff;}#sk-container-id-1 div.sk-serial::before {content: \"\";position: absolute;border-left: 1px solid gray;box-sizing: border-box;top: 0;bottom: 0;left: 50%;z-index: 0;}#sk-container-id-1 div.sk-serial {display: flex;flex-direction: column;align-items: center;background-color: white;padding-right: 0.2em;padding-left: 0.2em;position: relative;}#sk-container-id-1 div.sk-item {position: relative;z-index: 1;}#sk-container-id-1 div.sk-parallel {display: flex;align-items: stretch;justify-content: center;background-color: white;position: relative;}#sk-container-id-1 div.sk-item::before, #sk-container-id-1 div.sk-parallel-item::before {content: \"\";position: absolute;border-left: 1px solid gray;box-sizing: border-box;top: 0;bottom: 0;left: 50%;z-index: -1;}#sk-container-id-1 div.sk-parallel-item {display: flex;flex-direction: column;z-index: 1;position: relative;background-color: white;}#sk-container-id-1 div.sk-parallel-item:first-child::after {align-self: flex-end;width: 50%;}#sk-container-id-1 div.sk-parallel-item:last-child::after {align-self: flex-start;width: 50%;}#sk-container-id-1 div.sk-parallel-item:only-child::after {width: 0;}#sk-container-id-1 div.sk-dashed-wrapped {border: 1px dashed gray;margin: 0 0.4em 0.5em 0.4em;box-sizing: border-box;padding-bottom: 0.4em;background-color: white;}#sk-container-id-1 div.sk-label label {font-family: monospace;font-weight: bold;display: inline-block;line-height: 1.2em;}#sk-container-id-1 div.sk-label-container {text-align: center;}#sk-container-id-1 div.sk-container {/* jupyter's `normalize.less` sets `[hidden] { display: none; }` but bootstrap.min.css set `[hidden] { display: none !important; }` so we also need the `!important` here to be able to override the default hidden behavior on the sphinx rendered scikit-learn.org. See: https://github.com/scikit-learn/scikit-learn/issues/21755 */display: inline-block !important;position: relative;}#sk-container-id-1 div.sk-text-repr-fallback {display: none;}</style><div id=\"sk-container-id-1\" class=\"sk-top-container\"><div class=\"sk-text-repr-fallback\"><pre>RandomForestClassifier()</pre><b>In a Jupyter environment, please rerun this cell to show the HTML representation or trust the notebook. <br />On GitHub, the HTML representation is unable to render, please try loading this page with nbviewer.org.</b></div><div class=\"sk-container\" hidden><div class=\"sk-item\"><div class=\"sk-estimator sk-toggleable\"><input class=\"sk-toggleable__control sk-hidden--visually\" id=\"sk-estimator-id-1\" type=\"checkbox\" checked><label for=\"sk-estimator-id-1\" class=\"sk-toggleable__label sk-toggleable__label-arrow\">RandomForestClassifier</label><div class=\"sk-toggleable__content\"><pre>RandomForestClassifier()</pre></div></div></div></div></div>"
      ],
      "text/plain": [
       "RandomForestClassifier()"
      ]
     },
     "execution_count": 27,
     "metadata": {},
     "output_type": "execute_result"
    }
   ],
   "source": [
    "Rf_model=RandomForestClassifier()\n",
    "Rf_model.fit(x_train,y_train)\n"
   ]
  },
  {
   "cell_type": "code",
   "execution_count": 28,
   "id": "00c7c79a",
   "metadata": {},
   "outputs": [],
   "source": [
    "feature_scores=pd.Series(Rf_model.feature_importances_,\n",
    "                        index=x_train.columns).sort_values(ascending=False)"
   ]
  },
  {
   "cell_type": "code",
   "execution_count": 30,
   "id": "3454ce4a",
   "metadata": {},
   "outputs": [
    {
     "data": {
      "image/png": "[encoded data removed]",
      "text/plain": [
       "<Figure size 640x480 with 1 Axes>"
      ]
     },
     "metadata": {},
     "output_type": "display_data"
    }
   ],
   "source": [
    "sns.barplot(x=feature_scores,y=feature_scores.index)\n",
    "plt.xlabel('Feature importance score')\n",
    "plt.ylabel('Features')\n",
    "plt.title('feature importance')\n",
    "plt.show()"
   ]
  },
  {
   "cell_type": "code",
   "execution_count": 31,
   "id": "2ebdfe0a",
   "metadata": {},
   "outputs": [],
   "source": [
    "y=df['Outcome']\n",
    "x=df.drop(columns=['Outcome','SkinThickness'],axis=1)"
   ]
  },
  {
   "cell_type": "code",
   "execution_count": 32,
   "id": "7274e4f4",
   "metadata": {},
   "outputs": [
    {
     "data": {
      "text/html": [
       "<div>\n",
       "<style scoped>\n",
       "    .dataframe tbody tr th:only-of-type {\n",
       "        vertical-align: middle;\n",
       "    }\n",
       "\n",
       "    .dataframe tbody tr th {\n",
       "        vertical-align: top;\n",
       "    }\n",
       "\n",
       "    .dataframe thead th {\n",
       "        text-align: right;\n",
       "    }\n",
       "</style>\n",
       "<table border=\"1\" class=\"dataframe\">\n",
       "  <thead>\n",
       "    <tr style=\"text-align: right;\">\n",
       "      <th></th>\n",
       "      <th>Pregnancies</th>\n",
       "      <th>Glucose</th>\n",
       "      <th>BloodPressure</th>\n",
       "      <th>Insulin</th>\n",
       "      <th>BMI</th>\n",
       "      <th>DiabetesPedigreeFunction</th>\n",
       "      <th>Age</th>\n",
       "    </tr>\n",
       "  </thead>\n",
       "  <tbody>\n",
       "    <tr>\n",
       "      <th>0</th>\n",
       "      <td>6</td>\n",
       "      <td>148</td>\n",
       "      <td>72</td>\n",
       "      <td>0</td>\n",
       "      <td>33.6</td>\n",
       "      <td>0.627</td>\n",
       "      <td>50</td>\n",
       "    </tr>\n",
       "    <tr>\n",
       "      <th>1</th>\n",
       "      <td>1</td>\n",
       "      <td>85</td>\n",
       "      <td>66</td>\n",
       "      <td>0</td>\n",
       "      <td>26.6</td>\n",
       "      <td>0.351</td>\n",
       "      <td>31</td>\n",
       "    </tr>\n",
       "    <tr>\n",
       "      <th>2</th>\n",
       "      <td>8</td>\n",
       "      <td>183</td>\n",
       "      <td>64</td>\n",
       "      <td>0</td>\n",
       "      <td>23.3</td>\n",
       "      <td>0.672</td>\n",
       "      <td>32</td>\n",
       "    </tr>\n",
       "    <tr>\n",
       "      <th>3</th>\n",
       "      <td>1</td>\n",
       "      <td>89</td>\n",
       "      <td>66</td>\n",
       "      <td>94</td>\n",
       "      <td>28.1</td>\n",
       "      <td>0.167</td>\n",
       "      <td>21</td>\n",
       "    </tr>\n",
       "    <tr>\n",
       "      <th>4</th>\n",
       "      <td>0</td>\n",
       "      <td>137</td>\n",
       "      <td>40</td>\n",
       "      <td>168</td>\n",
       "      <td>43.1</td>\n",
       "      <td>2.288</td>\n",
       "      <td>33</td>\n",
       "    </tr>\n",
       "  </tbody>\n",
       "</table>\n",
       "</div>"
      ],
      "text/plain": [
       "   Pregnancies  Glucose  BloodPressure  Insulin   BMI  \\\n",
       "0            6      148             72        0  33.6   \n",
       "1            1       85             66        0  26.6   \n",
       "2            8      183             64        0  23.3   \n",
       "3            1       89             66       94  28.1   \n",
       "4            0      137             40      168  43.1   \n",
       "\n",
       "   DiabetesPedigreeFunction  Age  \n",
       "0                     0.627   50  \n",
       "1                     0.351   31  \n",
       "2                     0.672   32  \n",
       "3                     0.167   21  \n",
       "4                     2.288   33  "
      ]
     },
     "execution_count": 32,
     "metadata": {},
     "output_type": "execute_result"
    }
   ],
   "source": [
    "x.head()"
   ]
  },
  {
   "cell_type": "code",
   "execution_count": 33,
   "id": "fdd09a34",
   "metadata": {},
   "outputs": [],
   "source": [
    "x_train,x_test,y_train,y_test=train_test_split(x,y,test_size=0.2,random_state=0)"
   ]
  },
  {
   "cell_type": "code",
   "execution_count": 34,
   "id": "c74adda6",
   "metadata": {},
   "outputs": [
    {
     "name": "stdout",
     "output_type": "stream",
     "text": [
      "classification_report of testing:\n",
      "              precision    recall  f1-score   support\n",
      "\n",
      "           0       0.84      0.88      0.86       107\n",
      "           1       0.69      0.62      0.65        47\n",
      "\n",
      "    accuracy                           0.80       154\n",
      "   macro avg       0.76      0.75      0.76       154\n",
      "weighted avg       0.79      0.80      0.80       154\n",
      "\n",
      "classification_report of training:\n",
      "              precision    recall  f1-score   support\n",
      "\n",
      "           0       1.00      1.00      1.00       393\n",
      "           1       1.00      1.00      1.00       221\n",
      "\n",
      "    accuracy                           1.00       614\n",
      "   macro avg       1.00      1.00      1.00       614\n",
      "weighted avg       1.00      1.00      1.00       614\n",
      "\n"
     ]
    }
   ],
   "source": [
    "# apply the best params on RF model \n",
    "Rf_model=RandomForestClassifier()\n",
    "# call RF with the best params \n",
    "# fit model on training data \n",
    "Rf_model.fit(x_train,y_train)\n",
    "\n",
    "# prediction of x_test\n",
    "y_pred=Rf_model.predict(x_test)\n",
    "\n",
    "# prediction of x_train\n",
    "training_pred=Rf_model.predict(x_train)\n",
    "\n",
    "# print classification report of testing \n",
    "print('classification_report of testing:') \n",
    "print(classification_report(y_test,y_pred))\n",
    "\n",
    "# print classification report of testing \n",
    "print('classification_report of training:')\n",
    "print(classification_report(y_train,training_pred))\n"
   ]
  }
 ],
 "metadata": {
  "kernelspec": {
   "display_name": "Python 3 (ipykernel)",
   "language": "python",
   "name": "python3"
  },
  "language_info": {
   "codemirror_mode": {
    "name": "ipython",
    "version": 3
   },
   "file_extension": ".py",
   "mimetype": "text/x-python",
   "name": "python",
   "nbconvert_exporter": "python",
   "pygments_lexer": "ipython3",
   "version": "3.11.3"
  }
 },
 "nbformat": 4,
 "nbformat_minor": 5
}
